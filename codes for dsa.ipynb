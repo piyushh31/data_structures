{
 "cells": [
  {
   "cell_type": "code",
   "execution_count": 4,
   "id": "31369fc6",
   "metadata": {},
   "outputs": [
    {
     "name": "stdout",
     "output_type": "stream",
     "text": [
      "Element is not present in list1\n"
     ]
    }
   ],
   "source": [
    "# Iterative Binary Search Function method Python Implementation  \n",
    "# It returns index of n in given list1 if present,   \n",
    "# else returns -1   \n",
    "def binary_search(list1, n):  \n",
    "    low = 0  \n",
    "    high = len(list1) - 1  \n",
    "    mid = 0  \n",
    "  \n",
    "    while low <= high:  \n",
    "        # for get integer result   \n",
    "        mid = (high + low) // 2  \n",
    "  \n",
    "        # Check if n is present at mid   \n",
    "        if list1[mid] < n:  \n",
    "            low = mid + 1  \n",
    "  \n",
    "        # If n is greater, compare to the right of mid   \n",
    "        elif list1[mid] > n:  \n",
    "            high = mid - 1  \n",
    "  \n",
    "        # If n is smaller, compared to the left of mid  \n",
    "        else:  \n",
    "            return mid  \n",
    "  \n",
    "            # element was not present in the list, return -1  \n",
    "    return -1  \n",
    "  \n",
    "  \n",
    "# Initial list1  \n",
    "list1 = [12, 24, 32, 39, 45, 50, 54]  \n",
    "n = 80\n",
    "  \n",
    "# Function call   \n",
    "result = binary_search(list1, n)  \n",
    "  \n",
    "if result != -1:  \n",
    "    print(\"Element is present at index\", str(result))  \n",
    "else:  \n",
    "    print(\"Element is not present in list1\")  "
   ]
  },
  {
   "cell_type": "code",
   "execution_count": 9,
   "id": "7a61769f",
   "metadata": {},
   "outputs": [
    {
     "name": "stdout",
     "output_type": "stream",
     "text": [
      "Element found at index:  2\n"
     ]
    }
   ],
   "source": [
    "def linear_Search(list1, n):  \n",
    "    \n",
    "    # Searching list1 sequentially  \n",
    "    for i in range(0,len(list1)):  \n",
    "        if (list1[i] == n):  \n",
    "            return i  \n",
    "    return -1  \n",
    "  \n",
    "  \n",
    "list1 = [1 ,3, 5, 4, 7, 9]  \n",
    "n=5\n",
    "res = linear_Search(list1, n)  \n",
    "if(res == -1):  \n",
    "    print(\"Element not found\")  \n",
    "else:  \n",
    "    print(\"Element found at index: \", res) "
   ]
  },
  {
   "cell_type": "code",
   "execution_count": 2,
   "id": "52fc4b92",
   "metadata": {},
   "outputs": [
    {
     "name": "stdout",
     "output_type": "stream",
     "text": [
      "[11, 22, 34, 45, 54, 55, 66, 67, 77, 78, 90, 91, 99, 334]\n",
      "Length of the sorted array:  14\n",
      "The number of comparisons =  59\n"
     ]
    }
   ],
   "source": [
    "#insertion sort on given data\n",
    "#count the number of iterations for the above data\n",
    "data = [334,67,54,45,78,90,91,11,22,34,55,66,77,99]\n",
    "arr = [data[0]]\n",
    "c = 0\n",
    "for i in range(1,len(data)):\n",
    "    for j in range(len(arr)):\n",
    "        c+=1\n",
    "        if data[i]<arr[j]:\n",
    "            arr.insert(j,data[i])\n",
    "            break\n",
    "print(arr)\n",
    "print(\"Length of the sorted array: \",len(arr))\n",
    "print(\"The number of comparisons = \",c)"
   ]
  },
  {
   "cell_type": "code",
   "execution_count": 6,
   "id": "21afe88e",
   "metadata": {},
   "outputs": [
    {
     "name": "stdout",
     "output_type": "stream",
     "text": [
      "The sorted array is:  [3, 5, 6, 21, 33]\n"
     ]
    }
   ],
   "source": [
    "def selection_sort(array):  \n",
    "    length = len(array)  \n",
    "      \n",
    "    for i in range(length-1):  \n",
    "        minIndex = i  \n",
    "          \n",
    "        for j in range(i+1, length):  \n",
    "            if array[j]<array[minIndex]:  \n",
    "                minIndex = j  \n",
    "                  \n",
    "        array[i], array[minIndex] = array[minIndex], array[i]  \n",
    "          \n",
    "          \n",
    "    return array      \n",
    "array = [21,6,5,33,3]  \n",
    "  \n",
    "print(\"The sorted array is: \", selection_sort(array))  "
   ]
  },
  {
   "cell_type": "code",
   "execution_count": 7,
   "id": "0ad05e88",
   "metadata": {},
   "outputs": [
    {
     "name": "stdout",
     "output_type": "stream",
     "text": [
      "The unsorted list is:  [5, 3, 8, 6, 7, 2]\n",
      "The sorted list is:  [2, 3, 5, 6, 7, 8]\n"
     ]
    }
   ],
   "source": [
    "# Creating a bubble sort function  \n",
    "def bubble_sort(list1):  \n",
    "    # Outer loop for traverse the entire list  \n",
    "    for i in range(0,len(list1)-1):  \n",
    "        for j in range(len(list1)-1):  \n",
    "            if(list1[j]>list1[j+1]):  \n",
    "                temp = list1[j]  \n",
    "                list1[j] = list1[j+1]  \n",
    "                list1[j+1] = temp  \n",
    "    return list1  \n",
    "  \n",
    "list1 = [5, 3, 8, 6, 7, 2]  \n",
    "print(\"The unsorted list is: \", list1)  \n",
    "# Calling the bubble sort function  \n",
    "print(\"The sorted list is: \", bubble_sort(list1))  "
   ]
  },
  {
   "cell_type": "code",
   "execution_count": null,
   "id": "bab51216",
   "metadata": {},
   "outputs": [],
   "source": []
  }
 ],
 "metadata": {
  "kernelspec": {
   "display_name": "Python 3 (ipykernel)",
   "language": "python",
   "name": "python3"
  },
  "language_info": {
   "codemirror_mode": {
    "name": "ipython",
    "version": 3
   },
   "file_extension": ".py",
   "mimetype": "text/x-python",
   "name": "python",
   "nbconvert_exporter": "python",
   "pygments_lexer": "ipython3",
   "version": "3.9.7"
  }
 },
 "nbformat": 4,
 "nbformat_minor": 5
}
